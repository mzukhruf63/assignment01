{
 "cells": [
  {
   "cell_type": "markdown",
   "id": "168a40bd-d37d-475c-b1d6-51da74420479",
   "metadata": {},
   "source": [
    "# Part -1 Python Basics (Variables)"
   ]
  },
  {
   "cell_type": "markdown",
   "id": "55defaca-666c-4eb8-a8a6-5b5a001c36b2",
   "metadata": {},
   "source": [
    "1-Print Your Name with your Father name and Date of birth using suitable escape sequence charactor"
   ]
  },
  {
   "cell_type": "code",
   "execution_count": 3,
   "id": "28e266da-e0b0-4c5f-8ffc-3d08ec90c693",
   "metadata": {},
   "outputs": [
    {
     "name": "stdout",
     "output_type": "stream",
     "text": [
      "name : \t Zukhruf\n",
      " father name :\t M.Rafique\n",
      " date of birth : 23/6/2008\n"
     ]
    }
   ],
   "source": [
    "print(\"name : \\t Zukhruf\\n father name :\\t M.Rafique\\n date of birth : 23/6/2008\")"
   ]
  },
  {
   "cell_type": "markdown",
   "id": "82decf73-ab02-4bcb-ad34-fcaa78653a36",
   "metadata": {},
   "source": [
    "2-Write your small bio using variables and print it using print function"
   ]
  },
  {
   "cell_type": "code",
   "execution_count": 4,
   "id": "41ccf575-97d0-47ab-a451-b0e945e09764",
   "metadata": {},
   "outputs": [
    {
     "name": "stdout",
     "output_type": "stream",
     "text": [
      "9th grade student | Hafiz-e-Quran | MS Office skilled\n"
     ]
    }
   ],
   "source": [
    "bio_data = \"9th grade student | Hafiz-e-Quran | MS Office skilled\"\n",
    "print (bio_data)"
   ]
  },
  {
   "cell_type": "markdown",
   "id": "74e13f62-0e7a-492a-9b7a-0521e83bc7d9",
   "metadata": {},
   "source": [
    "3-Write a program in which use all the operators we can use in Python"
   ]
  },
  {
   "cell_type": "code",
   "execution_count": 5,
   "id": "7c62e4c5-d4af-435e-bae3-6f1f22c2ce93",
   "metadata": {},
   "outputs": [
    {
     "name": "stdout",
     "output_type": "stream",
     "text": [
      "Arithmetic Operators:\n",
      "Addition: 15\n",
      "Subtraction: 5\n",
      "Multiplication: 50\n",
      "Division: 2.0\n",
      "Floor Division: 2\n",
      "Modulus: 0\n",
      "Exponentiation: 100000\n",
      "\n",
      "Comparison Operators:\n",
      "Equal : False\n",
      "Not Equal: True\n",
      "Greater Than: True\n",
      "Less Than: False\n",
      "Greater Than Equal: True\n",
      "Less Than Equal: False\n"
     ]
    }
   ],
   "source": [
    "### Arithmetic Operators\n",
    "#--------------------\n",
    "a = 10\n",
    "b = 5\n",
    "print(\"Arithmetic Operators:\")\n",
    "print(\"Addition:\", a + b)\n",
    "print(\"Subtraction:\", a - b)\n",
    "print(\"Multiplication:\", a * b)\n",
    "print(\"Division:\", a / b)\n",
    "print(\"Floor Division:\", a // b)\n",
    "print(\"Modulus:\", a % b)\n",
    "print(\"Exponentiation:\", a ** b)\n",
    "\n",
    "### Comparison Operators(True or False)\n",
    "print(\"\\nComparison Operators:\")\n",
    "print(\"Equal :\", a == b)\n",
    "print(\"Not Equal:\", a != b)\n",
    "print(\"Greater Than:\", a > b)\n",
    "print(\"Less Than:\", a < b)\n",
    "print(\"Greater Than Equal:\", a >= b)\n",
    "print(\"Less Than Equal:\", a <= b)\n"
   ]
  },
  {
   "cell_type": "markdown",
   "id": "346990d0-45d8-4534-80b1-7b6f489f1ba1",
   "metadata": {},
   "source": [
    "4. Completes the following steps of small task:\n",
    "    - Mention Marks of English , Islamiat and Maths out of 100 in 3 different variables\n",
    "    - Mention Variable of Total Marks and assign 300 to it\n",
    "    - Calculate Percentage"
   ]
  },
  {
   "cell_type": "code",
   "execution_count": 6,
   "id": "9441a1fe-850a-4477-90dd-d6679d63b729",
   "metadata": {},
   "outputs": [
    {
     "name": "stdout",
     "output_type": "stream",
     "text": [
      "\n",
      "Marks and Percentage :\n",
      "Total Marks: 300\n",
      "Obtained Marks: 255\n",
      "Percentage: 85.0 %\n"
     ]
    }
   ],
   "source": [
    "# Marks and Percentage \n",
    "print(\"\\nMarks and Percentage :\")\n",
    "english = 85\n",
    "islamiat = 90\n",
    "maths = 80\n",
    "total_marks = 300\n",
    "obtained_marks = english + islamiat + maths\n",
    "percentage = (obtained_marks / total_marks) * 100\n",
    "print(\"Total Marks:\", total_marks)\n",
    "print(\"Obtained Marks:\", obtained_marks)\n",
    "print(\"Percentage:\", percentage, \"%\")\n"
   ]
  },
  {
   "cell_type": "code",
   "execution_count": null,
   "id": "3c3e77ba-7dd1-4fbc-8a6f-9f873e60608b",
   "metadata": {},
   "outputs": [],
   "source": []
  }
 ],
 "metadata": {
  "kernelspec": {
   "display_name": "Python 3 (ipykernel)",
   "language": "python",
   "name": "python3"
  },
  "language_info": {
   "codemirror_mode": {
    "name": "ipython",
    "version": 3
   },
   "file_extension": ".py",
   "mimetype": "text/x-python",
   "name": "python",
   "nbconvert_exporter": "python",
   "pygments_lexer": "ipython3",
   "version": "3.12.7"
  }
 },
 "nbformat": 4,
 "nbformat_minor": 5
}

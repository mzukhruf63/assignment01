{
 "cells": [
  {
   "cell_type": "markdown",
   "metadata": {},
   "source": [
    "# Part -2 Python Basics (Conditional Statements)"
   ]
  },
  {
   "cell_type": "markdown",
   "metadata": {},
   "source": [
    "1) A company decided to give bonus of 5% to employee if his/her year of service is more than 5 years.\n",
    "Ask user for their salary and year of service and print the net bonus amount."
   ]
  },
  {
   "cell_type": "code",
   "execution_count": 28,
   "metadata": {},
   "outputs": [
    {
     "name": "stdout",
     "output_type": "stream",
     "text": [
      " You are elegible for bonus: 600.0\n"
     ]
    }
   ],
   "source": [
    "workyear= (int(input(\"enter your workyear:\")))\n",
    "salary= int(input(\"whatis your salary:\"))\n",
    "\n",
    "if workyear >5:\n",
    "    bonus = salary *0.05\n",
    "    print(\" You are elegible for bonus:\",bonus)\n",
    "else:\n",
    "    print(\"sorry you are not elegible for bonus\")\n"
   ]
  },
  {
   "cell_type": "markdown",
   "metadata": {},
   "source": [
    "\n",
    "2) Write a program to check whether a person is eligible for voting or not. (accept age from user) if age is greater than 17 eligible otherwise not eligible"
   ]
  },
  {
   "cell_type": "code",
   "execution_count": null,
   "metadata": {},
   "outputs": [
    {
     "name": "stdout",
     "output_type": "stream",
     "text": [
      "you are elegible for voting\n"
     ]
    }
   ],
   "source": [
    "age = 19\n",
    "if age >= 18:\n",
    "    print(\"you are elegible for voting\")\n",
    "else:\n",
    "    print (\"you are not elegible for voting\")"
   ]
  },
  {
   "cell_type": "markdown",
   "metadata": {},
   "source": [
    "\n",
    "3) Write a program to check whether a number entered by user is even or odd."
   ]
  },
  {
   "cell_type": "code",
   "execution_count": null,
   "metadata": {},
   "outputs": [
    {
     "name": "stdout",
     "output_type": "stream",
     "text": [
      "Your number is odd\n"
     ]
    }
   ],
   "source": [
    "number = int(input(\"Add a number\"))\n",
    "\n",
    "if number  % 2 == 0:\n",
    "    print (\"your number is even \")\n",
    "else:\n",
    "    print (\"Your number is odd\")"
   ]
  },
  {
   "cell_type": "markdown",
   "metadata": {},
   "source": [
    "4) Write a program to check whether a number is divisible by 7 or not.\n",
    "Show Answer"
   ]
  },
  {
   "cell_type": "code",
   "execution_count": 35,
   "metadata": {},
   "outputs": [
    {
     "name": "stdout",
     "output_type": "stream",
     "text": [
      "Your number is not divisible by 7\n"
     ]
    }
   ],
   "source": [
    "number = int(input(\"Add a number\"))\n",
    "\n",
    "if number  % 7 == 0:\n",
    "    print (\"your number divisible by 7\")\n",
    "else:\n",
    "    print (\"Your number is not divisible by 7\")"
   ]
  },
  {
   "cell_type": "markdown",
   "metadata": {},
   "source": [
    "5) Write a program to display \n",
    "\"Hello\" if a number entered by user is a multiple of five , otherwise print \"Bye\"."
   ]
  },
  {
   "cell_type": "code",
   "execution_count": 38,
   "metadata": {},
   "outputs": [
    {
     "name": "stdout",
     "output_type": "stream",
     "text": [
      " Bye! \n"
     ]
    }
   ],
   "source": [
    "number = int(input(\"Add a number\"))\n",
    "\n",
    "if number  % 5 == 0:\n",
    "    print (\"hello! \")\n",
    "else:\n",
    "    print (\" Bye! \")"
   ]
  },
  {
   "cell_type": "markdown",
   "metadata": {},
   "source": [
    "6) Write a program to calculate the electricity bill (accept number of unit from user) according to the following criteria :\n",
    "     Unit                                                     Price  \n",
    "uptp 100 units                                             no charge\n",
    "Next 200 units                                              Rs 5 per unit\n",
    "After 200 units                                             Rs 10 per unit\n",
    "(For example if input unit is 350 than total bill amount is Rs.3500\n",
    "(For example if input unit is 97 than total bill amount is Rs.0\n",
    "(For example if input unit is 150 than total bill amount is Rs.750"
   ]
  },
  {
   "cell_type": "code",
   "execution_count": 44,
   "metadata": {},
   "outputs": [
    {
     "name": "stdout",
     "output_type": "stream",
     "text": [
      "Your bill whould be  625\n"
     ]
    }
   ],
   "source": [
    "units = int(input(\"Add your Units \"))\n",
    "\n",
    "if units <=100:\n",
    "    print(\"there will be no charge for such a unit\")\n",
    "elif units <=200:\n",
    "    bill =  units * 5\n",
    "    print (\"Your bill whould be \", bill)\n",
    "elif units >200:\n",
    "    bill = units * 10\n",
    "    print (\"Your bill whoulc be \", bill)\n"
   ]
  },
  {
   "cell_type": "markdown",
   "metadata": {},
   "source": [
    "7) Write a program to display the last digit of a number.\n"
   ]
  },
  {
   "cell_type": "code",
   "execution_count": 46,
   "metadata": {},
   "outputs": [
    {
     "name": "stdout",
     "output_type": "stream",
     "text": [
      "your last digit 5\n"
     ]
    }
   ],
   "source": [
    "add_number = int(input(\"Add a number\"))\n",
    "lastDigit =add_number  % 10\n",
    "print(\"your last digit\" , lastDigit)"
   ]
  },
  {
   "cell_type": "markdown",
   "metadata": {},
   "source": [
    "9) Take values of length and breadth of a rectangle from user and print if it is square or rectangle."
   ]
  },
  {
   "cell_type": "code",
   "execution_count": 47,
   "metadata": {},
   "outputs": [
    {
     "name": "stdout",
     "output_type": "stream",
     "text": [
      "It is a Square\n"
     ]
    }
   ],
   "source": [
    "length = int(input(\"Enter length\"))\n",
    "breadth = int(input(\"Enter breadth\"))\n",
    "\n",
    "if length == breadth:\n",
    "    print(\"It is a Square\")\n",
    "else:\n",
    "    print(\"It is a Rectangle\")\n",
    " "
   ]
  },
  {
   "cell_type": "markdown",
   "metadata": {},
   "source": [
    "10) Take two int values from user and print greatest among them."
   ]
  },
  {
   "cell_type": "code",
   "execution_count": 49,
   "metadata": {},
   "outputs": [
    {
     "name": "stdout",
     "output_type": "stream",
     "text": [
      "Both numbers are equal.\n"
     ]
    }
   ],
   "source": [
    "x = int(input(\"Enter first number\"))\n",
    "y = int(input(\"Enter second number\"))\n",
    "\n",
    "if x > y:\n",
    "    print(x, \"is greater.\")\n",
    "elif y > x:\n",
    "    print(y, \"is greater.\")\n",
    "else:\n",
    "    print(\"Both numbers are equal.\")\n"
   ]
  },
  {
   "cell_type": "markdown",
   "metadata": {},
   "source": [
    "11) A shop will give discount of 10% if the cost of purchased quantity is more than 1000.\n",
    "Ask user for quantity\n",
    "Suppose, one unit will cost 100.\n",
    "Judge and print total cost for user."
   ]
  },
  {
   "cell_type": "code",
   "execution_count": 51,
   "metadata": {},
   "outputs": [
    {
     "name": "stdout",
     "output_type": "stream",
     "text": [
      "Total cost after discount : 321030.0\n"
     ]
    }
   ],
   "source": [
    "quantity = int(input(\"Enter quantity\"))\n",
    "\n",
    "price = 100\n",
    "totalcost = quantity * price\n",
    "\n",
    "if totalcost > 1000:\n",
    "    discount = totalcost * 0.1\n",
    "    totalcost -= discount\n",
    "\n",
    "print(\"Total cost after discount :\", totalcost)"
   ]
  },
  {
   "cell_type": "markdown",
   "metadata": {},
   "source": [
    "12) A school has following rules for grading system:\n",
    "\n",
    "a. Below 25 - F\n",
    "\n",
    "b. 25 to 45 - E\n",
    "\n",
    "c. 45 to 50 - D\n",
    "\n",
    "d. 50 to 60 - C\n",
    "\n",
    "e. 60 to 80 - B\n",
    "\n",
    "f. Above 80 - A\n",
    "\n",
    "Ask user to enter marks and print the corresponding grade."
   ]
  },
  {
   "cell_type": "code",
   "execution_count": 52,
   "metadata": {},
   "outputs": [
    {
     "name": "stdout",
     "output_type": "stream",
     "text": [
      "Grade E\n"
     ]
    }
   ],
   "source": [
    "marks = int(input(\"Enter your marks: \"))\n",
    "\n",
    "if marks>80 and marks<= 100:\n",
    "    print(\"Grade A\")\n",
    "elif marks>60 and marks<= 80:\n",
    "    print(\"Grade B\")\n",
    "elif marks >50 and marks<= 60:\n",
    "    print(\"Grade C\")\n",
    "elif marks>45 and marks<= 50:\n",
    "    print(\"Grade D\")\n",
    "elif marks>25 and marks<= 45:\n",
    "    print(\"Grade E\")\n",
    "elif marks>0 and marks<= 25:\n",
    "    print(\"Grade F\")\n",
    "else:\n",
    "    print(\"Invalid Input\")"
   ]
  },
  {
   "cell_type": "markdown",
   "metadata": {},
   "source": [
    "14)A student will not be allowed to sit in exam if his/her attendence is less than 75%.\n",
    "\n",
    "Take following input from user\n",
    "\n",
    "- Number of classes held\n",
    "\n",
    "- Number of classes attended.\n",
    "\n",
    "And print\n",
    "\n",
    "- percentage of class attended\n",
    "\n",
    "- Is student is allowed to sit in exam or not.\n"
   ]
  },
  {
   "cell_type": "code",
   "execution_count": 55,
   "metadata": {},
   "outputs": [
    {
     "name": "stdout",
     "output_type": "stream",
     "text": [
      "Attendance Percentage 80.0 %\n",
      "Not allowed to sit in exam.\n"
     ]
    }
   ],
   "source": [
    "NumberOfClass = int(input(\"Enter total number of classes held: \"))\n",
    "NumberOfClassAtend = int(input(\"Enter number of classes attended: \"))\n",
    "\n",
    "\n",
    "attendance = (NumberOfClass / NumberOfClassAtend) * 100\n",
    "print(\"Attendance Percentage\", attendance, \"%\")\n",
    "\n",
    "if attendance <= 75:\n",
    "    print(\"Allowed to sit in exam.\")\n",
    "else:\n",
    "    print(\"Not allowed to sit in exam.\")\n"
   ]
  },
  {
   "cell_type": "markdown",
   "metadata": {},
   "source": [
    "15) Modify the above question to allow student to sit if he/she has medical cause. Ask user if he/she has medical cause or not ( 'Y' or 'N' ) and print accordingly."
   ]
  },
  {
   "cell_type": "code",
   "execution_count": 56,
   "metadata": {},
   "outputs": [
    {
     "name": "stdout",
     "output_type": "stream",
     "text": [
      "Attendance Percentage 100.0 %\n",
      "Not allowed to sit in exam.\n"
     ]
    }
   ],
   "source": [
    "NumberOfClass = int(input(\"Enter total number of classes held: \"))\n",
    "NumberOfClassAtend = int(input(\"Enter number of classes attended: \"))\n",
    "\n",
    "attendance = (NumberOfClass / NumberOfClassAtend) * 100\n",
    "print(\"Attendance Percentage\", attendance, \"%\")\n",
    "\n",
    "if attendance <= 75:\n",
    "    print(\"Allowed to sit in exam.\")\n",
    "else:\n",
    "    MedicalCasuse = input(\"Do you have a medical cause? (Y/N): \")\n",
    "    if MedicalCasuse == 'Y':\n",
    "        print(\"Allowed to sit in exam due to medical cause.\")\n",
    "    else:\n",
    "        print(\"Not allowed to sit in exam.\")"
   ]
  },
  {
   "cell_type": "markdown",
   "metadata": {},
   "source": [
    "16) Write a program to check if a year is leap year or not.\n",
    "\n",
    "If a year is divisible by 4 then it is leap year but if the year is century year like 2000, 1900, 2100 then it must be divisible by 400."
   ]
  },
  {
   "cell_type": "code",
   "execution_count": 59,
   "metadata": {},
   "outputs": [
    {
     "name": "stdout",
     "output_type": "stream",
     "text": [
      "21 Your year is leep year\n"
     ]
    }
   ],
   "source": [
    "year = int(input(\"Enter the year\"))\n",
    "\n",
    "if year %4:\n",
    "    print (year , \"Your year is leep year\")\n",
    "elif year %400:\n",
    "    print (year,\"Your year is century year \")\n",
    "else:\n",
    "    print (\" your is year:\", year)\n",
    "    "
   ]
  },
  {
   "cell_type": "markdown",
   "metadata": {},
   "source": [
    "17) Ask user to enter age, gender ( M or F ), marital status ( Y or N ) and then using following rules print their place of service.\n",
    "\n",
    "if employee is female, then she will work only in urban areas.\n",
    "\n",
    "if employee is a male and age is in between 20 to 40 then he may work in anywhere\n",
    "\n",
    "if employee is male and age is in between 40 t0 60 then he will work in urban areas only.\n",
    "\n",
    "And any other input of age should print \"ERROR\""
   ]
  },
  {
   "cell_type": "code",
   "execution_count": 62,
   "metadata": {},
   "outputs": [
    {
     "name": "stdout",
     "output_type": "stream",
     "text": [
      "you can work only in Urban Areas.\n"
     ]
    }
   ],
   "source": [
    "age = int(input(\"Enter age: \"))\n",
    "gender = input(\"Enter gender (M/F): \").upper()\n",
    "\n",
    "\n",
    "if gender == 'F':\n",
    "    print(\"you can work only in Urban Areas.\")\n",
    "elif gender == 'M':\n",
    "    if 20 <= age <= 40:\n",
    "        print(\"you can work Anywhere.\")\n",
    "    elif 40 < age <= 60:\n",
    "        print(\"you can work only in Urban Areas.\")\n",
    "    else:\n",
    "        print(\"ERROR\")\n",
    "else:\n",
    "    print(\"Invalid Input\")\n"
   ]
  },
  {
   "cell_type": "markdown",
   "metadata": {},
   "source": [
    "6) Write a program to calculate the electricity bill (accept number of unit from user) according to the following criteria :\n",
    "     Unit                                                     Price  \n",
    "uptp 100 units                                             no charge\n",
    "Next 200 units                                              Rs 5 per unit\n",
    "After 200 units                                             Rs 10 per unit\n",
    "(For example if input unit is 350 than total bill amount is Rs.3500\n",
    "(For example if input unit is 97 than total bill amount is Rs.0\n",
    "(For example if input unit is 150 than total bill amount is Rs.750"
   ]
  },
  {
   "cell_type": "markdown",
   "metadata": {},
   "source": [
    "13) Take input of age of 3 people by user and determine oldest and youngest among them."
   ]
  },
  {
   "cell_type": "code",
   "execution_count": 63,
   "metadata": {},
   "outputs": [
    {
     "name": "stdout",
     "output_type": "stream",
     "text": [
      "The oldest person is 67 years old.\n",
      "The youngest person is 29 years old.\n"
     ]
    }
   ],
   "source": [
    "age_1 = int(input(\"Enter the first person age\"))\n",
    "age_2 = int(input(\"Enter the second person age\"))\n",
    "age_3 = int(input(\"Enterthe third person age\"))\n",
    "\n",
    "if age_1 > age_2  and age_1 > age_3:\n",
    "    oldest = age_1\n",
    "elif age_2 > age_1 and age_2  > age_3:\n",
    "    oldest = age_2 \n",
    "else:\n",
    "    oldest = age_3\n",
    "\n",
    "if age_1 < age_2 and age_1 < age_3:\n",
    "    youngest = a1\n",
    "elif age_2  < age_1 and age_2  < age_3:\n",
    "    youngest = age_2 \n",
    "else:\n",
    "    youngest = age_3\n",
    "\n",
    "print(\"The oldest person is\", oldest, \"years old.\")\n",
    "print(\"The youngest person is\", youngest, \"years old.\")\n"
   ]
  },
  {
   "cell_type": "code",
   "execution_count": null,
   "metadata": {},
   "outputs": [],
   "source": []
  }
 ],
 "metadata": {
  "kernelspec": {
   "display_name": "Python 3 (ipykernel)",
   "language": "python",
   "name": "python3"
  },
  "language_info": {
   "codemirror_mode": {
    "name": "ipython",
    "version": 3
   },
   "file_extension": ".py",
   "mimetype": "text/x-python",
   "name": "python",
   "nbconvert_exporter": "python",
   "pygments_lexer": "ipython3",
   "version": "3.12.7"
  }
 },
 "nbformat": 4,
 "nbformat_minor": 4
}
